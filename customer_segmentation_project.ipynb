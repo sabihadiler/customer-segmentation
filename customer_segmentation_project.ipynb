{
 "cells": [
  {
   "cell_type": "markdown",
   "id": "a73f0c8f-eb29-43a1-afa7-5a9d16393062",
   "metadata": {},
   "source": [
    "## Müşteri Segmantasyonu"
   ]
  },
  {
   "cell_type": "markdown",
   "id": "914a43f8-f16e-42d7-bced-f94257cd9dfb",
   "metadata": {},
   "source": [
    "**Amaç: Müşteri verilerini analiz ederek benzer özellikteki müşterileri segmentlere ayırmak.**\n",
    "\n",
    "- Hedefli kampanyalar oluşturmak,\n",
    "- Müşteri davranışlarını anlamak,\n",
    "- Şirketin stratejik kararlarına katkı sağlamak.\n"
   ]
  },
  {
   "cell_type": "code",
   "execution_count": 1,
   "id": "6d37253e-a73c-41e1-9d3d-a2d9924f9748",
   "metadata": {},
   "outputs": [],
   "source": [
    "import pandas as pd #veriyi okuma ve tanıma için pandas kütüphanesini kullandım"
   ]
  },
  {
   "cell_type": "code",
   "execution_count": 2,
   "id": "a4bc059d-0730-42cc-b5a2-fe19d76ac26f",
   "metadata": {},
   "outputs": [],
   "source": [
    "#dosya okuma: openpyxl motoru .xlsx dosyalarını okur\n",
    "musteri_verileri = pd.read_excel('musteri_verileri.xlsx', engine='openpyxl')"
   ]
  },
  {
   "cell_type": "markdown",
   "id": "ce5fd84b-1bd4-41b3-84a6-1337838075f8",
   "metadata": {},
   "source": [
    "# Verinin İlk İncelenmesi\n",
    "- İlk 5 satır\n",
    "- Kaç satır kaç sütun var\n",
    "- Hangi sütunlar var ve veri tipleri neler"
   ]
  },
  {
   "cell_type": "code",
   "execution_count": 3,
   "id": "f59eb30b-7817-4893-880c-1d8a143a9567",
   "metadata": {},
   "outputs": [
    {
     "data": {
      "text/html": [
       "<div>\n",
       "<style scoped>\n",
       "    .dataframe tbody tr th:only-of-type {\n",
       "        vertical-align: middle;\n",
       "    }\n",
       "\n",
       "    .dataframe tbody tr th {\n",
       "        vertical-align: top;\n",
       "    }\n",
       "\n",
       "    .dataframe thead th {\n",
       "        text-align: right;\n",
       "    }\n",
       "</style>\n",
       "<table border=\"1\" class=\"dataframe\">\n",
       "  <thead>\n",
       "    <tr style=\"text-align: right;\">\n",
       "      <th></th>\n",
       "      <th>customer_id</th>\n",
       "      <th>age</th>\n",
       "      <th>gender</th>\n",
       "      <th>region</th>\n",
       "      <th>num_loans</th>\n",
       "      <th>total_spent</th>\n",
       "      <th>activity_score</th>\n",
       "      <th>income_level</th>\n",
       "    </tr>\n",
       "  </thead>\n",
       "  <tbody>\n",
       "    <tr>\n",
       "      <th>0</th>\n",
       "      <td>CUST0001</td>\n",
       "      <td>56</td>\n",
       "      <td>Kadın</td>\n",
       "      <td>Marmara</td>\n",
       "      <td>2</td>\n",
       "      <td>8213</td>\n",
       "      <td>80.37</td>\n",
       "      <td>Alt</td>\n",
       "    </tr>\n",
       "    <tr>\n",
       "      <th>1</th>\n",
       "      <td>CUST0002</td>\n",
       "      <td>69</td>\n",
       "      <td>Kadın</td>\n",
       "      <td>İç Anadolu</td>\n",
       "      <td>2</td>\n",
       "      <td>11303</td>\n",
       "      <td>81.78</td>\n",
       "      <td>Üst</td>\n",
       "    </tr>\n",
       "    <tr>\n",
       "      <th>2</th>\n",
       "      <td>CUST0003</td>\n",
       "      <td>46</td>\n",
       "      <td>Kadın</td>\n",
       "      <td>Karadeniz</td>\n",
       "      <td>2</td>\n",
       "      <td>10804</td>\n",
       "      <td>97.89</td>\n",
       "      <td>Alt</td>\n",
       "    </tr>\n",
       "    <tr>\n",
       "      <th>3</th>\n",
       "      <td>CUST0004</td>\n",
       "      <td>32</td>\n",
       "      <td>Erkek</td>\n",
       "      <td>Doğu Anadolu</td>\n",
       "      <td>1</td>\n",
       "      <td>10420</td>\n",
       "      <td>50.19</td>\n",
       "      <td>Alt</td>\n",
       "    </tr>\n",
       "    <tr>\n",
       "      <th>4</th>\n",
       "      <td>CUST0005</td>\n",
       "      <td>60</td>\n",
       "      <td>Kadın</td>\n",
       "      <td>Karadeniz</td>\n",
       "      <td>0</td>\n",
       "      <td>7512</td>\n",
       "      <td>45.50</td>\n",
       "      <td>Orta</td>\n",
       "    </tr>\n",
       "  </tbody>\n",
       "</table>\n",
       "</div>"
      ],
      "text/plain": [
       "  customer_id  age gender        region  num_loans  total_spent  \\\n",
       "0    CUST0001   56  Kadın       Marmara          2         8213   \n",
       "1    CUST0002   69  Kadın    İç Anadolu          2        11303   \n",
       "2    CUST0003   46  Kadın     Karadeniz          2        10804   \n",
       "3    CUST0004   32  Erkek  Doğu Anadolu          1        10420   \n",
       "4    CUST0005   60  Kadın     Karadeniz          0         7512   \n",
       "\n",
       "   activity_score income_level  \n",
       "0           80.37          Alt  \n",
       "1           81.78          Üst  \n",
       "2           97.89          Alt  \n",
       "3           50.19          Alt  \n",
       "4           45.50         Orta  "
      ]
     },
     "execution_count": 3,
     "metadata": {},
     "output_type": "execute_result"
    }
   ],
   "source": [
    "musteri_verileri.head() #bu komutun varsayılan parametresi 5'tir = musteri_verileri.head(5) istersen parantez içini değiştirebiliriz"
   ]
  },
  {
   "cell_type": "code",
   "execution_count": 4,
   "id": "d9204bd9-5980-4113-934c-871ee4a7d54e",
   "metadata": {},
   "outputs": [
    {
     "name": "stdout",
     "output_type": "stream",
     "text": [
      "1000\n"
     ]
    }
   ],
   "source": [
    "print(len(musteri_verileri))"
   ]
  },
  {
   "cell_type": "code",
   "execution_count": 5,
   "id": "57cac4a7-2907-42f5-88b7-eed7cbab183a",
   "metadata": {},
   "outputs": [
    {
     "name": "stdout",
     "output_type": "stream",
     "text": [
      "8\n"
     ]
    }
   ],
   "source": [
    "print(len(musteri_verileri.columns))"
   ]
  },
  {
   "cell_type": "code",
   "execution_count": 6,
   "id": "64d8bffe-68e9-492c-9ccd-59d8c3128ad4",
   "metadata": {},
   "outputs": [
    {
     "data": {
      "text/plain": [
       "Index(['customer_id', 'age', 'gender', 'region', 'num_loans', 'total_spent',\n",
       "       'activity_score', 'income_level'],\n",
       "      dtype='object')"
      ]
     },
     "execution_count": 6,
     "metadata": {},
     "output_type": "execute_result"
    }
   ],
   "source": [
    "musteri_verileri.columns"
   ]
  },
  {
   "cell_type": "code",
   "execution_count": 7,
   "id": "7f607e0d-1e96-45f0-9d26-b1d6956abb1e",
   "metadata": {},
   "outputs": [
    {
     "data": {
      "text/plain": [
       "customer_id        object\n",
       "age                 int64\n",
       "gender             object\n",
       "region             object\n",
       "num_loans           int64\n",
       "total_spent         int64\n",
       "activity_score    float64\n",
       "income_level       object\n",
       "dtype: object"
      ]
     },
     "execution_count": 7,
     "metadata": {},
     "output_type": "execute_result"
    }
   ],
   "source": [
    "musteri_verileri.dtypes"
   ]
  },
  {
   "cell_type": "markdown",
   "id": "c870777b-4175-4093-9105-9bb11ac0ae90",
   "metadata": {},
   "source": [
    "# Eksik ve Aykırı Değer Analizi"
   ]
  },
  {
   "cell_type": "code",
   "execution_count": 8,
   "id": "05754c54-74ec-4f85-aae4-031db1196369",
   "metadata": {},
   "outputs": [
    {
     "data": {
      "text/html": [
       "<div>\n",
       "<style scoped>\n",
       "    .dataframe tbody tr th:only-of-type {\n",
       "        vertical-align: middle;\n",
       "    }\n",
       "\n",
       "    .dataframe tbody tr th {\n",
       "        vertical-align: top;\n",
       "    }\n",
       "\n",
       "    .dataframe thead th {\n",
       "        text-align: right;\n",
       "    }\n",
       "</style>\n",
       "<table border=\"1\" class=\"dataframe\">\n",
       "  <thead>\n",
       "    <tr style=\"text-align: right;\">\n",
       "      <th></th>\n",
       "      <th>customer_id</th>\n",
       "      <th>age</th>\n",
       "      <th>gender</th>\n",
       "      <th>region</th>\n",
       "      <th>num_loans</th>\n",
       "      <th>total_spent</th>\n",
       "      <th>activity_score</th>\n",
       "      <th>income_level</th>\n",
       "    </tr>\n",
       "  </thead>\n",
       "  <tbody>\n",
       "    <tr>\n",
       "      <th>0</th>\n",
       "      <td>False</td>\n",
       "      <td>False</td>\n",
       "      <td>False</td>\n",
       "      <td>False</td>\n",
       "      <td>False</td>\n",
       "      <td>False</td>\n",
       "      <td>False</td>\n",
       "      <td>False</td>\n",
       "    </tr>\n",
       "    <tr>\n",
       "      <th>1</th>\n",
       "      <td>False</td>\n",
       "      <td>False</td>\n",
       "      <td>False</td>\n",
       "      <td>False</td>\n",
       "      <td>False</td>\n",
       "      <td>False</td>\n",
       "      <td>False</td>\n",
       "      <td>False</td>\n",
       "    </tr>\n",
       "    <tr>\n",
       "      <th>2</th>\n",
       "      <td>False</td>\n",
       "      <td>False</td>\n",
       "      <td>False</td>\n",
       "      <td>False</td>\n",
       "      <td>False</td>\n",
       "      <td>False</td>\n",
       "      <td>False</td>\n",
       "      <td>False</td>\n",
       "    </tr>\n",
       "    <tr>\n",
       "      <th>3</th>\n",
       "      <td>False</td>\n",
       "      <td>False</td>\n",
       "      <td>False</td>\n",
       "      <td>False</td>\n",
       "      <td>False</td>\n",
       "      <td>False</td>\n",
       "      <td>False</td>\n",
       "      <td>False</td>\n",
       "    </tr>\n",
       "    <tr>\n",
       "      <th>4</th>\n",
       "      <td>False</td>\n",
       "      <td>False</td>\n",
       "      <td>False</td>\n",
       "      <td>False</td>\n",
       "      <td>False</td>\n",
       "      <td>False</td>\n",
       "      <td>False</td>\n",
       "      <td>False</td>\n",
       "    </tr>\n",
       "    <tr>\n",
       "      <th>...</th>\n",
       "      <td>...</td>\n",
       "      <td>...</td>\n",
       "      <td>...</td>\n",
       "      <td>...</td>\n",
       "      <td>...</td>\n",
       "      <td>...</td>\n",
       "      <td>...</td>\n",
       "      <td>...</td>\n",
       "    </tr>\n",
       "    <tr>\n",
       "      <th>995</th>\n",
       "      <td>False</td>\n",
       "      <td>False</td>\n",
       "      <td>False</td>\n",
       "      <td>False</td>\n",
       "      <td>False</td>\n",
       "      <td>False</td>\n",
       "      <td>False</td>\n",
       "      <td>False</td>\n",
       "    </tr>\n",
       "    <tr>\n",
       "      <th>996</th>\n",
       "      <td>False</td>\n",
       "      <td>False</td>\n",
       "      <td>False</td>\n",
       "      <td>False</td>\n",
       "      <td>False</td>\n",
       "      <td>False</td>\n",
       "      <td>False</td>\n",
       "      <td>False</td>\n",
       "    </tr>\n",
       "    <tr>\n",
       "      <th>997</th>\n",
       "      <td>False</td>\n",
       "      <td>False</td>\n",
       "      <td>False</td>\n",
       "      <td>False</td>\n",
       "      <td>False</td>\n",
       "      <td>False</td>\n",
       "      <td>False</td>\n",
       "      <td>False</td>\n",
       "    </tr>\n",
       "    <tr>\n",
       "      <th>998</th>\n",
       "      <td>False</td>\n",
       "      <td>False</td>\n",
       "      <td>False</td>\n",
       "      <td>False</td>\n",
       "      <td>False</td>\n",
       "      <td>False</td>\n",
       "      <td>False</td>\n",
       "      <td>False</td>\n",
       "    </tr>\n",
       "    <tr>\n",
       "      <th>999</th>\n",
       "      <td>False</td>\n",
       "      <td>False</td>\n",
       "      <td>False</td>\n",
       "      <td>False</td>\n",
       "      <td>False</td>\n",
       "      <td>False</td>\n",
       "      <td>False</td>\n",
       "      <td>False</td>\n",
       "    </tr>\n",
       "  </tbody>\n",
       "</table>\n",
       "<p>1000 rows × 8 columns</p>\n",
       "</div>"
      ],
      "text/plain": [
       "     customer_id    age  gender  region  num_loans  total_spent  \\\n",
       "0          False  False   False   False      False        False   \n",
       "1          False  False   False   False      False        False   \n",
       "2          False  False   False   False      False        False   \n",
       "3          False  False   False   False      False        False   \n",
       "4          False  False   False   False      False        False   \n",
       "..           ...    ...     ...     ...        ...          ...   \n",
       "995        False  False   False   False      False        False   \n",
       "996        False  False   False   False      False        False   \n",
       "997        False  False   False   False      False        False   \n",
       "998        False  False   False   False      False        False   \n",
       "999        False  False   False   False      False        False   \n",
       "\n",
       "     activity_score  income_level  \n",
       "0             False         False  \n",
       "1             False         False  \n",
       "2             False         False  \n",
       "3             False         False  \n",
       "4             False         False  \n",
       "..              ...           ...  \n",
       "995           False         False  \n",
       "996           False         False  \n",
       "997           False         False  \n",
       "998           False         False  \n",
       "999           False         False  \n",
       "\n",
       "[1000 rows x 8 columns]"
      ]
     },
     "execution_count": 8,
     "metadata": {},
     "output_type": "execute_result"
    }
   ],
   "source": [
    "musteri_verileri.isnull()"
   ]
  },
  {
   "cell_type": "code",
   "execution_count": 9,
   "id": "81f1fcbf-26ed-4a94-9dd5-72957b9319b9",
   "metadata": {},
   "outputs": [
    {
     "data": {
      "text/plain": [
       "customer_id       0.0\n",
       "age               0.0\n",
       "gender            0.0\n",
       "region            0.0\n",
       "num_loans         0.0\n",
       "total_spent       0.0\n",
       "activity_score    0.0\n",
       "income_level      0.0\n",
       "dtype: float64"
      ]
     },
     "execution_count": 9,
     "metadata": {},
     "output_type": "execute_result"
    }
   ],
   "source": [
    "musteri_verileri.isnull().mean() #mean ile yüzdesel eksikleri görmeyi amaçladım"
   ]
  },
  {
   "cell_type": "code",
   "execution_count": 10,
   "id": "5b7ed9ed-0a07-4b4d-9d07-01e363935f99",
   "metadata": {},
   "outputs": [
    {
     "data": {
      "text/html": [
       "<div>\n",
       "<style scoped>\n",
       "    .dataframe tbody tr th:only-of-type {\n",
       "        vertical-align: middle;\n",
       "    }\n",
       "\n",
       "    .dataframe tbody tr th {\n",
       "        vertical-align: top;\n",
       "    }\n",
       "\n",
       "    .dataframe thead th {\n",
       "        text-align: right;\n",
       "    }\n",
       "</style>\n",
       "<table border=\"1\" class=\"dataframe\">\n",
       "  <thead>\n",
       "    <tr style=\"text-align: right;\">\n",
       "      <th></th>\n",
       "      <th>customer_id</th>\n",
       "      <th>age</th>\n",
       "      <th>gender</th>\n",
       "      <th>region</th>\n",
       "      <th>num_loans</th>\n",
       "      <th>total_spent</th>\n",
       "      <th>activity_score</th>\n",
       "      <th>income_level</th>\n",
       "    </tr>\n",
       "  </thead>\n",
       "  <tbody>\n",
       "  </tbody>\n",
       "</table>\n",
       "</div>"
      ],
      "text/plain": [
       "Empty DataFrame\n",
       "Columns: [customer_id, age, gender, region, num_loans, total_spent, activity_score, income_level]\n",
       "Index: []"
      ]
     },
     "execution_count": 10,
     "metadata": {},
     "output_type": "execute_result"
    }
   ],
   "source": [
    "#aykırı yaş değerlerini kontrol ettim.\n",
    "musteri_verileri[(musteri_verileri[\"age\"] < 18) | (musteri_verileri[\"age\"] > 110)]"
   ]
  },
  {
   "cell_type": "markdown",
   "id": "f016aa10-8b78-4768-8817-acfb4f6860d9",
   "metadata": {},
   "source": [
    "# Veriyi Görsel Analiz Etme (Exploratory Data Analysis-EDA)"
   ]
  },
  {
   "cell_type": "code",
   "execution_count": 11,
   "id": "e1b29ffc-4147-43cf-b33f-f6a37c99857a",
   "metadata": {},
   "outputs": [
    {
     "data": {
      "text/html": [
       "<div>\n",
       "<style scoped>\n",
       "    .dataframe tbody tr th:only-of-type {\n",
       "        vertical-align: middle;\n",
       "    }\n",
       "\n",
       "    .dataframe tbody tr th {\n",
       "        vertical-align: top;\n",
       "    }\n",
       "\n",
       "    .dataframe thead th {\n",
       "        text-align: right;\n",
       "    }\n",
       "</style>\n",
       "<table border=\"1\" class=\"dataframe\">\n",
       "  <thead>\n",
       "    <tr style=\"text-align: right;\">\n",
       "      <th></th>\n",
       "      <th>age</th>\n",
       "      <th>num_loans</th>\n",
       "      <th>total_spent</th>\n",
       "      <th>activity_score</th>\n",
       "    </tr>\n",
       "  </thead>\n",
       "  <tbody>\n",
       "    <tr>\n",
       "      <th>count</th>\n",
       "      <td>1000.00000</td>\n",
       "      <td>1000.000000</td>\n",
       "      <td>1000.00000</td>\n",
       "      <td>1000.000000</td>\n",
       "    </tr>\n",
       "    <tr>\n",
       "      <th>mean</th>\n",
       "      <td>43.81900</td>\n",
       "      <td>2.026000</td>\n",
       "      <td>9827.61100</td>\n",
       "      <td>49.194630</td>\n",
       "    </tr>\n",
       "    <tr>\n",
       "      <th>std</th>\n",
       "      <td>14.99103</td>\n",
       "      <td>1.389696</td>\n",
       "      <td>2454.56548</td>\n",
       "      <td>28.980324</td>\n",
       "    </tr>\n",
       "    <tr>\n",
       "      <th>min</th>\n",
       "      <td>18.00000</td>\n",
       "      <td>0.000000</td>\n",
       "      <td>2073.00000</td>\n",
       "      <td>0.020000</td>\n",
       "    </tr>\n",
       "    <tr>\n",
       "      <th>25%</th>\n",
       "      <td>31.00000</td>\n",
       "      <td>1.000000</td>\n",
       "      <td>8218.25000</td>\n",
       "      <td>24.012500</td>\n",
       "    </tr>\n",
       "    <tr>\n",
       "      <th>50%</th>\n",
       "      <td>44.00000</td>\n",
       "      <td>2.000000</td>\n",
       "      <td>9909.00000</td>\n",
       "      <td>48.235000</td>\n",
       "    </tr>\n",
       "    <tr>\n",
       "      <th>75%</th>\n",
       "      <td>56.00000</td>\n",
       "      <td>3.000000</td>\n",
       "      <td>11468.25000</td>\n",
       "      <td>75.650000</td>\n",
       "    </tr>\n",
       "    <tr>\n",
       "      <th>max</th>\n",
       "      <td>69.00000</td>\n",
       "      <td>7.000000</td>\n",
       "      <td>17880.00000</td>\n",
       "      <td>99.950000</td>\n",
       "    </tr>\n",
       "  </tbody>\n",
       "</table>\n",
       "</div>"
      ],
      "text/plain": [
       "              age    num_loans  total_spent  activity_score\n",
       "count  1000.00000  1000.000000   1000.00000     1000.000000\n",
       "mean     43.81900     2.026000   9827.61100       49.194630\n",
       "std      14.99103     1.389696   2454.56548       28.980324\n",
       "min      18.00000     0.000000   2073.00000        0.020000\n",
       "25%      31.00000     1.000000   8218.25000       24.012500\n",
       "50%      44.00000     2.000000   9909.00000       48.235000\n",
       "75%      56.00000     3.000000  11468.25000       75.650000\n",
       "max      69.00000     7.000000  17880.00000       99.950000"
      ]
     },
     "execution_count": 11,
     "metadata": {},
     "output_type": "execute_result"
    }
   ],
   "source": [
    "musteri_verileri.describe()"
   ]
  },
  {
   "cell_type": "code",
   "execution_count": 12,
   "id": "c43c4487-ec0b-4222-9253-684763ac858d",
   "metadata": {},
   "outputs": [
    {
     "data": {
      "text/plain": [
       "count     1000.00000\n",
       "mean      9827.61100\n",
       "std       2454.56548\n",
       "min       2073.00000\n",
       "25%       8218.25000\n",
       "50%       9909.00000\n",
       "75%      11468.25000\n",
       "max      17880.00000\n",
       "Name: total_spent, dtype: float64"
      ]
     },
     "execution_count": 12,
     "metadata": {},
     "output_type": "execute_result"
    }
   ],
   "source": [
    "musteri_verileri[\"total_spent\"].describe() #sadece belirli bi satıra bakmak istersek"
   ]
  },
  {
   "cell_type": "code",
   "execution_count": 13,
   "id": "6971e6e6-5acd-4734-9045-dd5f81f88f78",
   "metadata": {},
   "outputs": [
    {
     "data": {
      "text/plain": [
       "gender\n",
       "Kadın    524\n",
       "Erkek    476\n",
       "Name: count, dtype: int64"
      ]
     },
     "execution_count": 13,
     "metadata": {},
     "output_type": "execute_result"
    }
   ],
   "source": [
    "musteri_verileri[\"gender\"].value_counts()"
   ]
  },
  {
   "cell_type": "code",
   "execution_count": 14,
   "id": "4d430f11-5737-4199-98d6-7003a204e4c3",
   "metadata": {},
   "outputs": [
    {
     "data": {
      "text/plain": [
       "region\n",
       "Akdeniz         157\n",
       "İç Anadolu      153\n",
       "Doğu Anadolu    148\n",
       "Karadeniz       143\n",
       "Marmara         140\n",
       "Güneydoğu       134\n",
       "Ege             125\n",
       "Name: count, dtype: int64"
      ]
     },
     "execution_count": 14,
     "metadata": {},
     "output_type": "execute_result"
    }
   ],
   "source": [
    "musteri_verileri[\"region\"].value_counts()"
   ]
  },
  {
   "cell_type": "code",
   "execution_count": 15,
   "id": "48bb94f0-5708-4f73-9b6a-218c7b1f5578",
   "metadata": {},
   "outputs": [
    {
     "data": {
      "text/plain": [
       "income_level\n",
       "Orta    504\n",
       "Alt     313\n",
       "Üst     183\n",
       "Name: count, dtype: int64"
      ]
     },
     "execution_count": 15,
     "metadata": {},
     "output_type": "execute_result"
    }
   ],
   "source": [
    "musteri_verileri[\"income_level\"].value_counts()"
   ]
  },
  {
   "cell_type": "code",
   "execution_count": 16,
   "id": "ae29c212-3cd0-4c9a-b8f9-cb3e0ac04c81",
   "metadata": {},
   "outputs": [
    {
     "name": "stdout",
     "output_type": "stream",
     "text": [
      "gender\n",
      "Kadın    524\n",
      "Erkek    476\n",
      "Name: count, dtype: int64\n",
      "region\n",
      "Akdeniz         157\n",
      "İç Anadolu      153\n",
      "Doğu Anadolu    148\n",
      "Karadeniz       143\n",
      "Marmara         140\n",
      "Güneydoğu       134\n",
      "Ege             125\n",
      "Name: count, dtype: int64\n",
      "income_level\n",
      "Orta    504\n",
      "Alt     313\n",
      "Üst     183\n",
      "Name: count, dtype: int64\n"
     ]
    }
   ],
   "source": [
    "print(musteri_verileri[\"gender\"].value_counts())\n",
    "print(musteri_verileri[\"region\"].value_counts())\n",
    "print(musteri_verileri[\"income_level\"].value_counts()) # 3 bilgiyi de aynı anda bu şekilde sorguladım"
   ]
  },
  {
   "cell_type": "markdown",
   "id": "2a740bc6-001a-4ea4-aaf4-3ff610d78598",
   "metadata": {},
   "source": [
    "# Grafiksel Gösterim"
   ]
  },
  {
   "cell_type": "code",
   "execution_count": 17,
   "id": "64bf1a81-8e52-4fa4-9b9a-81d4b7efbcaa",
   "metadata": {},
   "outputs": [],
   "source": [
    "import matplotlib.pyplot as plt"
   ]
  },
  {
   "cell_type": "code",
   "execution_count": 18,
   "id": "266b1ccd-8e91-4493-a817-137757ef5928",
   "metadata": {},
   "outputs": [],
   "source": [
    "import seaborn as sns"
   ]
  },
  {
   "cell_type": "code",
   "execution_count": 19,
   "id": "4b95b834-60ad-4f6e-894c-d383336a7989",
   "metadata": {},
   "outputs": [
    {
     "data": {
      "text/plain": [
       "<Axes: ylabel='Frequency'>"
      ]
     },
     "execution_count": 19,
     "metadata": {},
     "output_type": "execute_result"
    },
    {
     "data": {
      "image/png": "[encoded data removed]",
      "text/plain": [
       "<Figure size 640x480 with 1 Axes>"
      ]
     },
     "metadata": {},
     "output_type": "display_data"
    }
   ],
   "source": [
    "musteri_verileri[\"total_spent\"].plot.hist() #harcama dağılımını histogram ile gösterdim"
   ]
  },
  {
   "cell_type": "code",
   "execution_count": 20,
   "id": "a05f43cc-621a-4bbb-9e4d-04c41680badb",
   "metadata": {},
   "outputs": [
    {
     "data": {
      "text/plain": [
       "<Axes: ylabel='Density'>"
      ]
     },
     "execution_count": 20,
     "metadata": {},
     "output_type": "execute_result"
    },
    {
     "data": {
      "image/png": "[encoded data removed]",
      "text/plain": [
       "<Figure size 640x480 with 1 Axes>"
      ]
     },
     "metadata": {},
     "output_type": "display_data"
    }
   ],
   "source": [
    "musteri_verileri[\"age\"].plot.kde() # yaş dağılımı için yoğunluk grafiği (kde) çizdim\n",
    "#Kernel Density Estimation Çekirdek Yoğunluk Tahmini veya Çekirdek Yoğunluk Eğrisi"
   ]
  },
  {
   "cell_type": "markdown",
   "id": "3971a76a-3a44-41f7-bc01-c147d5bcfc15",
   "metadata": {},
   "source": [
    "# Veri Temizliği\n"
   ]
  },
  {
   "cell_type": "code",
   "execution_count": 21,
   "id": "2014e465-02a9-4703-b931-ce11073a9d8c",
   "metadata": {},
   "outputs": [
    {
     "data": {
      "image/png": "[encoded data removed]",
      "text/plain": [
       "<Figure size 640x480 with 1 Axes>"
      ]
     },
     "metadata": {},
     "output_type": "display_data"
    }
   ],
   "source": [
    "# Outlier Tespiti yaptım\n",
    "sns.boxplot(x=musteri_verileri[\"age\"])\n",
    "plt.show()\n",
    "# outlier varsa kutu dışında gözükür. bu tespiti her değişken için yaptım"
   ]
  },
  {
   "cell_type": "code",
   "execution_count": 22,
   "id": "134bc15b-096a-492a-8305-f18fc20bfe76",
   "metadata": {},
   "outputs": [
    {
     "data": {
      "text/plain": [
       "<Axes: xlabel='total_spent'>"
      ]
     },
     "execution_count": 22,
     "metadata": {},
     "output_type": "execute_result"
    },
    {
     "data": {
      "image/png": "[encoded data removed]",
      "text/plain": [
       "<Figure size 640x480 with 1 Axes>"
      ]
     },
     "metadata": {},
     "output_type": "display_data"
    }
   ],
   "source": [
    "sns.boxplot(x=musteri_verileri[\"total_spent\"])"
   ]
  },
  {
   "cell_type": "code",
   "execution_count": 23,
   "id": "4f2dc62a-e611-4cf5-be35-596b59ebca55",
   "metadata": {},
   "outputs": [
    {
     "data": {
      "text/plain": [
       "<Axes: xlabel='activity_score'>"
      ]
     },
     "execution_count": 23,
     "metadata": {},
     "output_type": "execute_result"
    },
    {
     "data": {
      "image/png": "[encoded data removed]",
      "text/plain": [
       "<Figure size 640x480 with 1 Axes>"
      ]
     },
     "metadata": {},
     "output_type": "display_data"
    }
   ],
   "source": [
    "sns.boxplot(x=musteri_verileri[\"activity_score\"])"
   ]
  },
  {
   "cell_type": "code",
   "execution_count": 24,
   "id": "fe0bd0d7-386b-48ca-9d69-bb7b149ed802",
   "metadata": {},
   "outputs": [
    {
     "data": {
      "text/plain": [
       "<Axes: xlabel='num_loans'>"
      ]
     },
     "execution_count": 24,
     "metadata": {},
     "output_type": "execute_result"
    },
    {
     "data": {
      "image/png": "[encoded data removed]",
      "text/plain": [
       "<Figure size 640x480 with 1 Axes>"
      ]
     },
     "metadata": {},
     "output_type": "display_data"
    }
   ],
   "source": [
    "sns.boxplot(x=musteri_verileri[\"num_loans\"])"
   ]
  },
  {
   "cell_type": "code",
   "execution_count": 25,
   "id": "42003599-e2d6-4c96-84f4-69dfc1656159",
   "metadata": {},
   "outputs": [
    {
     "data": {
      "text/plain": [
       "<Axes: xlabel='age', ylabel='Count'>"
      ]
     },
     "execution_count": 25,
     "metadata": {},
     "output_type": "execute_result"
    },
    {
     "data": {
      "image/png": "[encoded data removed]",
      "text/plain": [
       "<Figure size 640x480 with 1 Axes>"
      ]
     },
     "metadata": {},
     "output_type": "display_data"
    }
   ],
   "source": [
    "sns.histplot(data = musteri_verileri, x=\"age\")"
   ]
  },
  {
   "cell_type": "code",
   "execution_count": 26,
   "id": "6e70870d-9e0c-4835-abf8-c84a98ac964b",
   "metadata": {},
   "outputs": [
    {
     "data": {
      "text/plain": [
       "<Axes: xlabel='total_spent', ylabel='Count'>"
      ]
     },
     "execution_count": 26,
     "metadata": {},
     "output_type": "execute_result"
    },
    {
     "data": {
      "image/png": "[encoded data removed]",
      "text/plain": [
       "<Figure size 640x480 with 1 Axes>"
      ]
     },
     "metadata": {},
     "output_type": "display_data"
    }
   ],
   "source": [
    "sns.histplot(data=musteri_verileri, x=\"total_spent\")"
   ]
  },
  {
   "cell_type": "code",
   "execution_count": 27,
   "id": "49a4fcc0-cd76-4df3-9bd8-e5d8b8d9f878",
   "metadata": {},
   "outputs": [
    {
     "data": {
      "text/plain": [
       "<Axes: xlabel='activity_score', ylabel='Count'>"
      ]
     },
     "execution_count": 27,
     "metadata": {},
     "output_type": "execute_result"
    },
    {
     "data": {
      "image/png": "[encoded data removed]",
      "text/plain": [
       "<Figure size 640x480 with 1 Axes>"
      ]
     },
     "metadata": {},
     "output_type": "display_data"
    }
   ],
   "source": [
    "sns.histplot(data=musteri_verileri, x=\"activity_score\")"
   ]
  },
  {
   "cell_type": "code",
   "execution_count": 28,
   "id": "6891d395-0fec-4d3f-be34-adbfc908eb3e",
   "metadata": {},
   "outputs": [
    {
     "data": {
      "text/plain": [
       "<Axes: xlabel='num_loans', ylabel='Count'>"
      ]
     },
     "execution_count": 28,
     "metadata": {},
     "output_type": "execute_result"
    },
    {
     "data": {
      "image/png": "[encoded data removed]",
      "text/plain": [
       "<Figure size 640x480 with 1 Axes>"
      ]
     },
     "metadata": {},
     "output_type": "display_data"
    }
   ],
   "source": [
    "sns.histplot(data=musteri_verileri, x=\"num_loans\")"
   ]
  },
  {
   "cell_type": "markdown",
   "id": "88aae60b-a981-448f-a761-0353b3ae6e14",
   "metadata": {},
   "source": [
    "# Veriyi Ölçeklendirme\n",
    "- Yani tüm sayısal verileri aynı düzeye getireceğim ki algoritma adil şekilde işlem yapabilsin.\n",
    "- Projemde K-Means algoritması kullanıyorum. Bu algoritma Euclidean (Öklidyen) mesafe hesaplıyor. Eğer veriler farklı ölçeklerdeyse (örneğin yaş 18–90 arası, harcama 0–10000 arası), büyük sayılar küçük sayılardan daha etkili olur. Bu da yanlış kümelenmeye sebep olur."
   ]
  },
  {
   "cell_type": "code",
   "execution_count": 29,
   "id": "fc87220b-3d29-4ab6-9b0b-ccfa4767bfe4",
   "metadata": {},
   "outputs": [],
   "source": [
    "from sklearn.preprocessing import StandardScaler #scikit-learn kütüphanesinin içinden StandardScaler sınıfını içe aktardım. \n",
    "# StandardScaler her özelliğin ortalamasını=0 standart sapmasını=1 olacak şekilde standardize eder"
   ]
  },
  {
   "cell_type": "markdown",
   "id": "66fd9017-6830-4e84-b4df-a5b6b28bfe11",
   "metadata": {},
   "source": [
    "**K-Means algoritması ile segmantasyon yapacağm. Bu algoritma ölçeklenmiş verilere ihtiyaç duyar. Bu yüzden aşağıda seçtiğim 4 özelliği StandardScaler ile normalize ettim.**"
   ]
  },
  {
   "cell_type": "code",
   "execution_count": 30,
   "id": "ab63f08e-e72c-4028-b2e7-42907087b04b",
   "metadata": {},
   "outputs": [],
   "source": [
    "features = [\"age\", \"total_spent\", \"activity_score\", \"num_loans\"]"
   ]
  },
  {
   "cell_type": "code",
   "execution_count": 31,
   "id": "3bf4cb18-3391-4a64-829c-92799ee01f13",
   "metadata": {},
   "outputs": [],
   "source": [
    "scaler = StandardScaler()"
   ]
  },
  {
   "cell_type": "code",
   "execution_count": 32,
   "id": "2344082e-2170-4ee3-b2e0-b67010d08dec",
   "metadata": {},
   "outputs": [],
   "source": [
    "scaled = scaler.fit_transform(musteri_verileri[features]) #scale işlemini yaptım(ölçekleme)"
   ]
  },
  {
   "cell_type": "code",
   "execution_count": 33,
   "id": "21d7891a-be10-4386-a39f-c5c155993a08",
   "metadata": {},
   "outputs": [],
   "source": [
    "scaled_df=pd.DataFrame(data=scaled, columns=features) # scale sonucunun tablosunu oluşturup K-Meanse verdim"
   ]
  },
  {
   "cell_type": "code",
   "execution_count": 34,
   "id": "11b4b9db-b085-4820-8606-affccd5dbca7",
   "metadata": {},
   "outputs": [
    {
     "data": {
      "text/html": [
       "<div>\n",
       "<style scoped>\n",
       "    .dataframe tbody tr th:only-of-type {\n",
       "        vertical-align: middle;\n",
       "    }\n",
       "\n",
       "    .dataframe tbody tr th {\n",
       "        vertical-align: top;\n",
       "    }\n",
       "\n",
       "    .dataframe thead th {\n",
       "        text-align: right;\n",
       "    }\n",
       "</style>\n",
       "<table border=\"1\" class=\"dataframe\">\n",
       "  <thead>\n",
       "    <tr style=\"text-align: right;\">\n",
       "      <th></th>\n",
       "      <th>age</th>\n",
       "      <th>total_spent</th>\n",
       "      <th>activity_score</th>\n",
       "      <th>num_loans</th>\n",
       "    </tr>\n",
       "  </thead>\n",
       "  <tbody>\n",
       "    <tr>\n",
       "      <th>0</th>\n",
       "      <td>0.812959</td>\n",
       "      <td>-0.658128</td>\n",
       "      <td>1.076281</td>\n",
       "      <td>-0.018718</td>\n",
       "    </tr>\n",
       "    <tr>\n",
       "      <th>1</th>\n",
       "      <td>1.680578</td>\n",
       "      <td>0.601380</td>\n",
       "      <td>1.124959</td>\n",
       "      <td>-0.018718</td>\n",
       "    </tr>\n",
       "    <tr>\n",
       "      <th>2</th>\n",
       "      <td>0.145560</td>\n",
       "      <td>0.397984</td>\n",
       "      <td>1.681132</td>\n",
       "      <td>-0.018718</td>\n",
       "    </tr>\n",
       "    <tr>\n",
       "      <th>3</th>\n",
       "      <td>-0.788799</td>\n",
       "      <td>0.241462</td>\n",
       "      <td>0.034364</td>\n",
       "      <td>-0.738660</td>\n",
       "    </tr>\n",
       "    <tr>\n",
       "      <th>4</th>\n",
       "      <td>1.079919</td>\n",
       "      <td>-0.943861</td>\n",
       "      <td>-0.127551</td>\n",
       "      <td>-1.458602</td>\n",
       "    </tr>\n",
       "  </tbody>\n",
       "</table>\n",
       "</div>"
      ],
      "text/plain": [
       "        age  total_spent  activity_score  num_loans\n",
       "0  0.812959    -0.658128        1.076281  -0.018718\n",
       "1  1.680578     0.601380        1.124959  -0.018718\n",
       "2  0.145560     0.397984        1.681132  -0.018718\n",
       "3 -0.788799     0.241462        0.034364  -0.738660\n",
       "4  1.079919    -0.943861       -0.127551  -1.458602"
      ]
     },
     "execution_count": 34,
     "metadata": {},
     "output_type": "execute_result"
    }
   ],
   "source": [
    "scaled_df.head()"
   ]
  },
  {
   "cell_type": "code",
   "execution_count": 35,
   "id": "91421191-46c8-4006-b8a1-c3bc649955d4",
   "metadata": {},
   "outputs": [],
   "source": [
    "import matplotlib.pyplot as plt"
   ]
  },
  {
   "cell_type": "code",
   "execution_count": 36,
   "id": "880bbcaa-9ee1-4f59-84da-0b396e98a93e",
   "metadata": {},
   "outputs": [],
   "source": [
    "X = scaled_df.iloc[:, :].values\n",
    "# Scaled_df içindeki tüm sayısal değerleri alıp,\n",
    "# Pandas DataFrame’den NumPy dizisine çevirdim.\n",
    "# Çünkü KMeans gibi algoritmalar NumPy array ile çalışır. ( NumPy Array: Sayısal veri saklayan çok hızlı yapılar)"
   ]
  },
  {
   "cell_type": "markdown",
   "id": "13d7e768-52e1-4ca6-916e-650fa20b7eeb",
   "metadata": {},
   "source": [
    "# K-Means Kümeleme Clustering\n",
    "- K-Means, denetimsiz (unsupervised) öğrenmede kullanılan bir kümeleme algoritmasıdır.\n",
    "- ilk olarak 3 küme ile deneme yaptım\n",
    "- k-means++ ile daha iyi başlangıç noktaları bulmayı amaçladım\n",
    "- modeli fit() ile eğittim"
   ]
  },
  {
   "cell_type": "code",
   "execution_count": 37,
   "id": "8484e35c-1f15-496e-9c06-35b5b28791b8",
   "metadata": {},
   "outputs": [],
   "source": [
    "from sklearn.cluster import KMeans"
   ]
  },
  {
   "cell_type": "code",
   "execution_count": 38,
   "id": "4cfe985f-ddb6-4fb2-8715-77b2634ec5bb",
   "metadata": {},
   "outputs": [
    {
     "data": {
      "text/html": [
       "<style>#sk-container-id-1 {\n",
       "  /* Definition of color scheme common for light and dark mode */\n",
       "  --sklearn-color-text: #000;\n",
       "  --sklearn-color-text-muted: #666;\n",
       "  --sklearn-color-line: gray;\n",
       "  /* Definition of color scheme for unfitted estimators */\n",
       "  --sklearn-color-unfitted-level-0: #fff5e6;\n",
       "  --sklearn-color-unfitted-level-1: #f6e4d2;\n",
       "  --sklearn-color-unfitted-level-2: #ffe0b3;\n",
       "  --sklearn-color-unfitted-level-3: chocolate;\n",
       "  /* Definition of color scheme for fitted estimators */\n",
       "  --sklearn-color-fitted-level-0: #f0f8ff;\n",
       "  --sklearn-color-fitted-level-1: #d4ebff;\n",
       "  --sklearn-color-fitted-level-2: #b3dbfd;\n",
       "  --sklearn-color-fitted-level-3: cornflowerblue;\n",
       "\n",
       "  /* Specific color for light theme */\n",
       "  --sklearn-color-text-on-default-background: var(--sg-text-color, var(--theme-code-foreground, var(--jp-content-font-color1, black)));\n",
       "  --sklearn-color-background: var(--sg-background-color, var(--theme-background, var(--jp-layout-color0, white)));\n",
       "  --sklearn-color-border-box: var(--sg-text-color, var(--theme-code-foreground, var(--jp-content-font-color1, black)));\n",
       "  --sklearn-color-icon: #696969;\n",
       "\n",
       "  @media (prefers-color-scheme: dark) {\n",
       "    /* Redefinition of color scheme for dark theme */\n",
       "    --sklearn-color-text-on-default-background: var(--sg-text-color, var(--theme-code-foreground, var(--jp-content-font-color1, white)));\n",
       "    --sklearn-color-background: var(--sg-background-color, var(--theme-background, var(--jp-layout-color0, #111)));\n",
       "    --sklearn-color-border-box: var(--sg-text-color, var(--theme-code-foreground, var(--jp-content-font-color1, white)));\n",
       "    --sklearn-color-icon: #878787;\n",
       "  }\n",
       "}\n",
       "\n",
       "#sk-container-id-1 {\n",
       "  color: var(--sklearn-color-text);\n",
       "}\n",
       "\n",
       "#sk-container-id-1 pre {\n",
       "  padding: 0;\n",
       "}\n",
       "\n",
       "#sk-container-id-1 input.sk-hidden--visually {\n",
       "  border: 0;\n",
       "  clip: rect(1px 1px 1px 1px);\n",
       "  clip: rect(1px, 1px, 1px, 1px);\n",
       "  height: 1px;\n",
       "  margin: -1px;\n",
       "  overflow: hidden;\n",
       "  padding: 0;\n",
       "  position: absolute;\n",
       "  width: 1px;\n",
       "}\n",
       "\n",
       "#sk-container-id-1 div.sk-dashed-wrapped {\n",
       "  border: 1px dashed var(--sklearn-color-line);\n",
       "  margin: 0 0.4em 0.5em 0.4em;\n",
       "  box-sizing: border-box;\n",
       "  padding-bottom: 0.4em;\n",
       "  background-color: var(--sklearn-color-background);\n",
       "}\n",
       "\n",
       "#sk-container-id-1 div.sk-container {\n",
       "  /* jupyter's `normalize.less` sets `[hidden] { display: none; }`\n",
       "     but bootstrap.min.css set `[hidden] { display: none !important; }`\n",
       "     so we also need the `!important` here to be able to override the\n",
       "     default hidden behavior on the sphinx rendered scikit-learn.org.\n",
       "     See: https://github.com/scikit-learn/scikit-learn/issues/21755 */\n",
       "  display: inline-block !important;\n",
       "  position: relative;\n",
       "}\n",
       "\n",
       "#sk-container-id-1 div.sk-text-repr-fallback {\n",
       "  display: none;\n",
       "}\n",
       "\n",
       "div.sk-parallel-item,\n",
       "div.sk-serial,\n",
       "div.sk-item {\n",
       "  /* draw centered vertical line to link estimators */\n",
       "  background-image: linear-gradient(var(--sklearn-color-text-on-default-background), var(--sklearn-color-text-on-default-background));\n",
       "  background-size: 2px 100%;\n",
       "  background-repeat: no-repeat;\n",
       "  background-position: center center;\n",
       "}\n",
       "\n",
       "/* Parallel-specific style estimator block */\n",
       "\n",
       "#sk-container-id-1 div.sk-parallel-item::after {\n",
       "  content: \"\";\n",
       "  width: 100%;\n",
       "  border-bottom: 2px solid var(--sklearn-color-text-on-default-background);\n",
       "  flex-grow: 1;\n",
       "}\n",
       "\n",
       "#sk-container-id-1 div.sk-parallel {\n",
       "  display: flex;\n",
       "  align-items: stretch;\n",
       "  justify-content: center;\n",
       "  background-color: var(--sklearn-color-background);\n",
       "  position: relative;\n",
       "}\n",
       "\n",
       "#sk-container-id-1 div.sk-parallel-item {\n",
       "  display: flex;\n",
       "  flex-direction: column;\n",
       "}\n",
       "\n",
       "#sk-container-id-1 div.sk-parallel-item:first-child::after {\n",
       "  align-self: flex-end;\n",
       "  width: 50%;\n",
       "}\n",
       "\n",
       "#sk-container-id-1 div.sk-parallel-item:last-child::after {\n",
       "  align-self: flex-start;\n",
       "  width: 50%;\n",
       "}\n",
       "\n",
       "#sk-container-id-1 div.sk-parallel-item:only-child::after {\n",
       "  width: 0;\n",
       "}\n",
       "\n",
       "/* Serial-specific style estimator block */\n",
       "\n",
       "#sk-container-id-1 div.sk-serial {\n",
       "  display: flex;\n",
       "  flex-direction: column;\n",
       "  align-items: center;\n",
       "  background-color: var(--sklearn-color-background);\n",
       "  padding-right: 1em;\n",
       "  padding-left: 1em;\n",
       "}\n",
       "\n",
       "\n",
       "/* Toggleable style: style used for estimator/Pipeline/ColumnTransformer box that is\n",
       "clickable and can be expanded/collapsed.\n",
       "- Pipeline and ColumnTransformer use this feature and define the default style\n",
       "- Estimators will overwrite some part of the style using the `sk-estimator` class\n",
       "*/\n",
       "\n",
       "/* Pipeline and ColumnTransformer style (default) */\n",
       "\n",
       "#sk-container-id-1 div.sk-toggleable {\n",
       "  /* Default theme specific background. It is overwritten whether we have a\n",
       "  specific estimator or a Pipeline/ColumnTransformer */\n",
       "  background-color: var(--sklearn-color-background);\n",
       "}\n",
       "\n",
       "/* Toggleable label */\n",
       "#sk-container-id-1 label.sk-toggleable__label {\n",
       "  cursor: pointer;\n",
       "  display: flex;\n",
       "  width: 100%;\n",
       "  margin-bottom: 0;\n",
       "  padding: 0.5em;\n",
       "  box-sizing: border-box;\n",
       "  text-align: center;\n",
       "  align-items: start;\n",
       "  justify-content: space-between;\n",
       "  gap: 0.5em;\n",
       "}\n",
       "\n",
       "#sk-container-id-1 label.sk-toggleable__label .caption {\n",
       "  font-size: 0.6rem;\n",
       "  font-weight: lighter;\n",
       "  color: var(--sklearn-color-text-muted);\n",
       "}\n",
       "\n",
       "#sk-container-id-1 label.sk-toggleable__label-arrow:before {\n",
       "  /* Arrow on the left of the label */\n",
       "  content: \"▸\";\n",
       "  float: left;\n",
       "  margin-right: 0.25em;\n",
       "  color: var(--sklearn-color-icon);\n",
       "}\n",
       "\n",
       "#sk-container-id-1 label.sk-toggleable__label-arrow:hover:before {\n",
       "  color: var(--sklearn-color-text);\n",
       "}\n",
       "\n",
       "/* Toggleable content - dropdown */\n",
       "\n",
       "#sk-container-id-1 div.sk-toggleable__content {\n",
       "  display: none;\n",
       "  text-align: left;\n",
       "  /* unfitted */\n",
       "  background-color: var(--sklearn-color-unfitted-level-0);\n",
       "}\n",
       "\n",
       "#sk-container-id-1 div.sk-toggleable__content.fitted {\n",
       "  /* fitted */\n",
       "  background-color: var(--sklearn-color-fitted-level-0);\n",
       "}\n",
       "\n",
       "#sk-container-id-1 div.sk-toggleable__content pre {\n",
       "  margin: 0.2em;\n",
       "  border-radius: 0.25em;\n",
       "  color: var(--sklearn-color-text);\n",
       "  /* unfitted */\n",
       "  background-color: var(--sklearn-color-unfitted-level-0);\n",
       "}\n",
       "\n",
       "#sk-container-id-1 div.sk-toggleable__content.fitted pre {\n",
       "  /* unfitted */\n",
       "  background-color: var(--sklearn-color-fitted-level-0);\n",
       "}\n",
       "\n",
       "#sk-container-id-1 input.sk-toggleable__control:checked~div.sk-toggleable__content {\n",
       "  /* Expand drop-down */\n",
       "  display: block;\n",
       "  width: 100%;\n",
       "  overflow: visible;\n",
       "}\n",
       "\n",
       "#sk-container-id-1 input.sk-toggleable__control:checked~label.sk-toggleable__label-arrow:before {\n",
       "  content: \"▾\";\n",
       "}\n",
       "\n",
       "/* Pipeline/ColumnTransformer-specific style */\n",
       "\n",
       "#sk-container-id-1 div.sk-label input.sk-toggleable__control:checked~label.sk-toggleable__label {\n",
       "  color: var(--sklearn-color-text);\n",
       "  background-color: var(--sklearn-color-unfitted-level-2);\n",
       "}\n",
       "\n",
       "#sk-container-id-1 div.sk-label.fitted input.sk-toggleable__control:checked~label.sk-toggleable__label {\n",
       "  background-color: var(--sklearn-color-fitted-level-2);\n",
       "}\n",
       "\n",
       "/* Estimator-specific style */\n",
       "\n",
       "/* Colorize estimator box */\n",
       "#sk-container-id-1 div.sk-estimator input.sk-toggleable__control:checked~label.sk-toggleable__label {\n",
       "  /* unfitted */\n",
       "  background-color: var(--sklearn-color-unfitted-level-2);\n",
       "}\n",
       "\n",
       "#sk-container-id-1 div.sk-estimator.fitted input.sk-toggleable__control:checked~label.sk-toggleable__label {\n",
       "  /* fitted */\n",
       "  background-color: var(--sklearn-color-fitted-level-2);\n",
       "}\n",
       "\n",
       "#sk-container-id-1 div.sk-label label.sk-toggleable__label,\n",
       "#sk-container-id-1 div.sk-label label {\n",
       "  /* The background is the default theme color */\n",
       "  color: var(--sklearn-color-text-on-default-background);\n",
       "}\n",
       "\n",
       "/* On hover, darken the color of the background */\n",
       "#sk-container-id-1 div.sk-label:hover label.sk-toggleable__label {\n",
       "  color: var(--sklearn-color-text);\n",
       "  background-color: var(--sklearn-color-unfitted-level-2);\n",
       "}\n",
       "\n",
       "/* Label box, darken color on hover, fitted */\n",
       "#sk-container-id-1 div.sk-label.fitted:hover label.sk-toggleable__label.fitted {\n",
       "  color: var(--sklearn-color-text);\n",
       "  background-color: var(--sklearn-color-fitted-level-2);\n",
       "}\n",
       "\n",
       "/* Estimator label */\n",
       "\n",
       "#sk-container-id-1 div.sk-label label {\n",
       "  font-family: monospace;\n",
       "  font-weight: bold;\n",
       "  display: inline-block;\n",
       "  line-height: 1.2em;\n",
       "}\n",
       "\n",
       "#sk-container-id-1 div.sk-label-container {\n",
       "  text-align: center;\n",
       "}\n",
       "\n",
       "/* Estimator-specific */\n",
       "#sk-container-id-1 div.sk-estimator {\n",
       "  font-family: monospace;\n",
       "  border: 1px dotted var(--sklearn-color-border-box);\n",
       "  border-radius: 0.25em;\n",
       "  box-sizing: border-box;\n",
       "  margin-bottom: 0.5em;\n",
       "  /* unfitted */\n",
       "  background-color: var(--sklearn-color-unfitted-level-0);\n",
       "}\n",
       "\n",
       "#sk-container-id-1 div.sk-estimator.fitted {\n",
       "  /* fitted */\n",
       "  background-color: var(--sklearn-color-fitted-level-0);\n",
       "}\n",
       "\n",
       "/* on hover */\n",
       "#sk-container-id-1 div.sk-estimator:hover {\n",
       "  /* unfitted */\n",
       "  background-color: var(--sklearn-color-unfitted-level-2);\n",
       "}\n",
       "\n",
       "#sk-container-id-1 div.sk-estimator.fitted:hover {\n",
       "  /* fitted */\n",
       "  background-color: var(--sklearn-color-fitted-level-2);\n",
       "}\n",
       "\n",
       "/* Specification for estimator info (e.g. \"i\" and \"?\") */\n",
       "\n",
       "/* Common style for \"i\" and \"?\" */\n",
       "\n",
       ".sk-estimator-doc-link,\n",
       "a:link.sk-estimator-doc-link,\n",
       "a:visited.sk-estimator-doc-link {\n",
       "  float: right;\n",
       "  font-size: smaller;\n",
       "  line-height: 1em;\n",
       "  font-family: monospace;\n",
       "  background-color: var(--sklearn-color-background);\n",
       "  border-radius: 1em;\n",
       "  height: 1em;\n",
       "  width: 1em;\n",
       "  text-decoration: none !important;\n",
       "  margin-left: 0.5em;\n",
       "  text-align: center;\n",
       "  /* unfitted */\n",
       "  border: var(--sklearn-color-unfitted-level-1) 1pt solid;\n",
       "  color: var(--sklearn-color-unfitted-level-1);\n",
       "}\n",
       "\n",
       ".sk-estimator-doc-link.fitted,\n",
       "a:link.sk-estimator-doc-link.fitted,\n",
       "a:visited.sk-estimator-doc-link.fitted {\n",
       "  /* fitted */\n",
       "  border: var(--sklearn-color-fitted-level-1) 1pt solid;\n",
       "  color: var(--sklearn-color-fitted-level-1);\n",
       "}\n",
       "\n",
       "/* On hover */\n",
       "div.sk-estimator:hover .sk-estimator-doc-link:hover,\n",
       ".sk-estimator-doc-link:hover,\n",
       "div.sk-label-container:hover .sk-estimator-doc-link:hover,\n",
       ".sk-estimator-doc-link:hover {\n",
       "  /* unfitted */\n",
       "  background-color: var(--sklearn-color-unfitted-level-3);\n",
       "  color: var(--sklearn-color-background);\n",
       "  text-decoration: none;\n",
       "}\n",
       "\n",
       "div.sk-estimator.fitted:hover .sk-estimator-doc-link.fitted:hover,\n",
       ".sk-estimator-doc-link.fitted:hover,\n",
       "div.sk-label-container:hover .sk-estimator-doc-link.fitted:hover,\n",
       ".sk-estimator-doc-link.fitted:hover {\n",
       "  /* fitted */\n",
       "  background-color: var(--sklearn-color-fitted-level-3);\n",
       "  color: var(--sklearn-color-background);\n",
       "  text-decoration: none;\n",
       "}\n",
       "\n",
       "/* Span, style for the box shown on hovering the info icon */\n",
       ".sk-estimator-doc-link span {\n",
       "  display: none;\n",
       "  z-index: 9999;\n",
       "  position: relative;\n",
       "  font-weight: normal;\n",
       "  right: .2ex;\n",
       "  padding: .5ex;\n",
       "  margin: .5ex;\n",
       "  width: min-content;\n",
       "  min-width: 20ex;\n",
       "  max-width: 50ex;\n",
       "  color: var(--sklearn-color-text);\n",
       "  box-shadow: 2pt 2pt 4pt #999;\n",
       "  /* unfitted */\n",
       "  background: var(--sklearn-color-unfitted-level-0);\n",
       "  border: .5pt solid var(--sklearn-color-unfitted-level-3);\n",
       "}\n",
       "\n",
       ".sk-estimator-doc-link.fitted span {\n",
       "  /* fitted */\n",
       "  background: var(--sklearn-color-fitted-level-0);\n",
       "  border: var(--sklearn-color-fitted-level-3);\n",
       "}\n",
       "\n",
       ".sk-estimator-doc-link:hover span {\n",
       "  display: block;\n",
       "}\n",
       "\n",
       "/* \"?\"-specific style due to the `<a>` HTML tag */\n",
       "\n",
       "#sk-container-id-1 a.estimator_doc_link {\n",
       "  float: right;\n",
       "  font-size: 1rem;\n",
       "  line-height: 1em;\n",
       "  font-family: monospace;\n",
       "  background-color: var(--sklearn-color-background);\n",
       "  border-radius: 1rem;\n",
       "  height: 1rem;\n",
       "  width: 1rem;\n",
       "  text-decoration: none;\n",
       "  /* unfitted */\n",
       "  color: var(--sklearn-color-unfitted-level-1);\n",
       "  border: var(--sklearn-color-unfitted-level-1) 1pt solid;\n",
       "}\n",
       "\n",
       "#sk-container-id-1 a.estimator_doc_link.fitted {\n",
       "  /* fitted */\n",
       "  border: var(--sklearn-color-fitted-level-1) 1pt solid;\n",
       "  color: var(--sklearn-color-fitted-level-1);\n",
       "}\n",
       "\n",
       "/* On hover */\n",
       "#sk-container-id-1 a.estimator_doc_link:hover {\n",
       "  /* unfitted */\n",
       "  background-color: var(--sklearn-color-unfitted-level-3);\n",
       "  color: var(--sklearn-color-background);\n",
       "  text-decoration: none;\n",
       "}\n",
       "\n",
       "#sk-container-id-1 a.estimator_doc_link.fitted:hover {\n",
       "  /* fitted */\n",
       "  background-color: var(--sklearn-color-fitted-level-3);\n",
       "}\n",
       "\n",
       ".estimator-table summary {\n",
       "    padding: .5rem;\n",
       "    font-family: monospace;\n",
       "    cursor: pointer;\n",
       "}\n",
       "\n",
       ".estimator-table details[open] {\n",
       "    padding-left: 0.1rem;\n",
       "    padding-right: 0.1rem;\n",
       "    padding-bottom: 0.3rem;\n",
       "}\n",
       "\n",
       ".estimator-table .parameters-table {\n",
       "    margin-left: auto !important;\n",
       "    margin-right: auto !important;\n",
       "}\n",
       "\n",
       ".estimator-table .parameters-table tr:nth-child(odd) {\n",
       "    background-color: #fff;\n",
       "}\n",
       "\n",
       ".estimator-table .parameters-table tr:nth-child(even) {\n",
       "    background-color: #f6f6f6;\n",
       "}\n",
       "\n",
       ".estimator-table .parameters-table tr:hover {\n",
       "    background-color: #e0e0e0;\n",
       "}\n",
       "\n",
       ".estimator-table table td {\n",
       "    border: 1px solid rgba(106, 105, 104, 0.232);\n",
       "}\n",
       "\n",
       ".user-set td {\n",
       "    color:rgb(255, 94, 0);\n",
       "    text-align: left;\n",
       "}\n",
       "\n",
       ".user-set td.value pre {\n",
       "    color:rgb(255, 94, 0) !important;\n",
       "    background-color: transparent !important;\n",
       "}\n",
       "\n",
       ".default td {\n",
       "    color: black;\n",
       "    text-align: left;\n",
       "}\n",
       "\n",
       ".user-set td i,\n",
       ".default td i {\n",
       "    color: black;\n",
       "}\n",
       "\n",
       ".copy-paste-icon {\n",
       "    background-image: url(data:image/svg+xml;base64,PHN2ZyB4bWxucz0iaHR0cDovL3d3dy53My5vcmcvMjAwMC9zdmciIHZpZXdCb3g9IjAgMCA0NDggNTEyIj48IS0tIUZvbnQgQXdlc29tZSBGcmVlIDYuNy4yIGJ5IEBmb250YXdlc29tZSAtIGh0dHBzOi8vZm9udGF3ZXNvbWUuY29tIExpY2Vuc2UgLSBodHRwczovL2ZvbnRhd2Vzb21lLmNvbS9saWNlbnNlL2ZyZWUgQ29weXJpZ2h0IDIwMjUgRm9udGljb25zLCBJbmMuLS0+PHBhdGggZD0iTTIwOCAwTDMzMi4xIDBjMTIuNyAwIDI0LjkgNS4xIDMzLjkgMTQuMWw2Ny45IDY3LjljOSA5IDE0LjEgMjEuMiAxNC4xIDMzLjlMNDQ4IDMzNmMwIDI2LjUtMjEuNSA0OC00OCA0OGwtMTkyIDBjLTI2LjUgMC00OC0yMS41LTQ4LTQ4bDAtMjg4YzAtMjYuNSAyMS41LTQ4IDQ4LTQ4ek00OCAxMjhsODAgMCAwIDY0LTY0IDAgMCAyNTYgMTkyIDAgMC0zMiA2NCAwIDAgNDhjMCAyNi41LTIxLjUgNDgtNDggNDhMNDggNTEyYy0yNi41IDAtNDgtMjEuNS00OC00OEwwIDE3NmMwLTI2LjUgMjEuNS00OCA0OC00OHoiLz48L3N2Zz4=);\n",
       "    background-repeat: no-repeat;\n",
       "    background-size: 14px 14px;\n",
       "    background-position: 0;\n",
       "    display: inline-block;\n",
       "    width: 14px;\n",
       "    height: 14px;\n",
       "    cursor: pointer;\n",
       "}\n",
       "</style><body><div id=\"sk-container-id-1\" class=\"sk-top-container\"><div class=\"sk-text-repr-fallback\"><pre>KMeans(n_clusters=3)</pre><b>In a Jupyter environment, please rerun this cell to show the HTML representation or trust the notebook. <br />On GitHub, the HTML representation is unable to render, please try loading this page with nbviewer.org.</b></div><div class=\"sk-container\" hidden><div class=\"sk-item\"><div class=\"sk-estimator fitted sk-toggleable\"><input class=\"sk-toggleable__control sk-hidden--visually\" id=\"sk-estimator-id-1\" type=\"checkbox\" checked><label for=\"sk-estimator-id-1\" class=\"sk-toggleable__label fitted sk-toggleable__label-arrow\"><div><div>KMeans</div></div><div><a class=\"sk-estimator-doc-link fitted\" rel=\"noreferrer\" target=\"_blank\" href=\"https://scikit-learn.org/1.7/modules/generated/sklearn.cluster.KMeans.html\">?<span>Documentation for KMeans</span></a><span class=\"sk-estimator-doc-link fitted\">i<span>Fitted</span></span></div></label><div class=\"sk-toggleable__content fitted\" data-param-prefix=\"\">\n",
       "        <div class=\"estimator-table\">\n",
       "            <details>\n",
       "                <summary>Parameters</summary>\n",
       "                <table class=\"parameters-table\">\n",
       "                  <tbody>\n",
       "                    \n",
       "        <tr class=\"user-set\">\n",
       "            <td><i class=\"copy-paste-icon\"\n",
       "                 onclick=\"copyToClipboard('n_clusters',\n",
       "                          this.parentElement.nextElementSibling)\"\n",
       "            ></i></td>\n",
       "            <td class=\"param\">n_clusters&nbsp;</td>\n",
       "            <td class=\"value\">3</td>\n",
       "        </tr>\n",
       "    \n",
       "\n",
       "        <tr class=\"default\">\n",
       "            <td><i class=\"copy-paste-icon\"\n",
       "                 onclick=\"copyToClipboard('init',\n",
       "                          this.parentElement.nextElementSibling)\"\n",
       "            ></i></td>\n",
       "            <td class=\"param\">init&nbsp;</td>\n",
       "            <td class=\"value\">&#x27;k-means++&#x27;</td>\n",
       "        </tr>\n",
       "    \n",
       "\n",
       "        <tr class=\"default\">\n",
       "            <td><i class=\"copy-paste-icon\"\n",
       "                 onclick=\"copyToClipboard('n_init',\n",
       "                          this.parentElement.nextElementSibling)\"\n",
       "            ></i></td>\n",
       "            <td class=\"param\">n_init&nbsp;</td>\n",
       "            <td class=\"value\">&#x27;auto&#x27;</td>\n",
       "        </tr>\n",
       "    \n",
       "\n",
       "        <tr class=\"default\">\n",
       "            <td><i class=\"copy-paste-icon\"\n",
       "                 onclick=\"copyToClipboard('max_iter',\n",
       "                          this.parentElement.nextElementSibling)\"\n",
       "            ></i></td>\n",
       "            <td class=\"param\">max_iter&nbsp;</td>\n",
       "            <td class=\"value\">300</td>\n",
       "        </tr>\n",
       "    \n",
       "\n",
       "        <tr class=\"default\">\n",
       "            <td><i class=\"copy-paste-icon\"\n",
       "                 onclick=\"copyToClipboard('tol',\n",
       "                          this.parentElement.nextElementSibling)\"\n",
       "            ></i></td>\n",
       "            <td class=\"param\">tol&nbsp;</td>\n",
       "            <td class=\"value\">0.0001</td>\n",
       "        </tr>\n",
       "    \n",
       "\n",
       "        <tr class=\"default\">\n",
       "            <td><i class=\"copy-paste-icon\"\n",
       "                 onclick=\"copyToClipboard('verbose',\n",
       "                          this.parentElement.nextElementSibling)\"\n",
       "            ></i></td>\n",
       "            <td class=\"param\">verbose&nbsp;</td>\n",
       "            <td class=\"value\">0</td>\n",
       "        </tr>\n",
       "    \n",
       "\n",
       "        <tr class=\"default\">\n",
       "            <td><i class=\"copy-paste-icon\"\n",
       "                 onclick=\"copyToClipboard('random_state',\n",
       "                          this.parentElement.nextElementSibling)\"\n",
       "            ></i></td>\n",
       "            <td class=\"param\">random_state&nbsp;</td>\n",
       "            <td class=\"value\">None</td>\n",
       "        </tr>\n",
       "    \n",
       "\n",
       "        <tr class=\"default\">\n",
       "            <td><i class=\"copy-paste-icon\"\n",
       "                 onclick=\"copyToClipboard('copy_x',\n",
       "                          this.parentElement.nextElementSibling)\"\n",
       "            ></i></td>\n",
       "            <td class=\"param\">copy_x&nbsp;</td>\n",
       "            <td class=\"value\">True</td>\n",
       "        </tr>\n",
       "    \n",
       "\n",
       "        <tr class=\"default\">\n",
       "            <td><i class=\"copy-paste-icon\"\n",
       "                 onclick=\"copyToClipboard('algorithm',\n",
       "                          this.parentElement.nextElementSibling)\"\n",
       "            ></i></td>\n",
       "            <td class=\"param\">algorithm&nbsp;</td>\n",
       "            <td class=\"value\">&#x27;lloyd&#x27;</td>\n",
       "        </tr>\n",
       "    \n",
       "                  </tbody>\n",
       "                </table>\n",
       "            </details>\n",
       "        </div>\n",
       "    </div></div></div></div></div><script>function copyToClipboard(text, element) {\n",
       "    // Get the parameter prefix from the closest toggleable content\n",
       "    const toggleableContent = element.closest('.sk-toggleable__content');\n",
       "    const paramPrefix = toggleableContent ? toggleableContent.dataset.paramPrefix : '';\n",
       "    const fullParamName = paramPrefix ? `${paramPrefix}${text}` : text;\n",
       "\n",
       "    const originalStyle = element.style;\n",
       "    const computedStyle = window.getComputedStyle(element);\n",
       "    const originalWidth = computedStyle.width;\n",
       "    const originalHTML = element.innerHTML.replace('Copied!', '');\n",
       "\n",
       "    navigator.clipboard.writeText(fullParamName)\n",
       "        .then(() => {\n",
       "            element.style.width = originalWidth;\n",
       "            element.style.color = 'green';\n",
       "            element.innerHTML = \"Copied!\";\n",
       "\n",
       "            setTimeout(() => {\n",
       "                element.innerHTML = originalHTML;\n",
       "                element.style = originalStyle;\n",
       "            }, 2000);\n",
       "        })\n",
       "        .catch(err => {\n",
       "            console.error('Failed to copy:', err);\n",
       "            element.style.color = 'red';\n",
       "            element.innerHTML = \"Failed!\";\n",
       "            setTimeout(() => {\n",
       "                element.innerHTML = originalHTML;\n",
       "                element.style = originalStyle;\n",
       "            }, 2000);\n",
       "        });\n",
       "    return false;\n",
       "}\n",
       "\n",
       "document.querySelectorAll('.fa-regular.fa-copy').forEach(function(element) {\n",
       "    const toggleableContent = element.closest('.sk-toggleable__content');\n",
       "    const paramPrefix = toggleableContent ? toggleableContent.dataset.paramPrefix : '';\n",
       "    const paramName = element.parentElement.nextElementSibling.textContent.trim();\n",
       "    const fullParamName = paramPrefix ? `${paramPrefix}${paramName}` : paramName;\n",
       "\n",
       "    element.setAttribute('title', fullParamName);\n",
       "});\n",
       "</script></body>"
      ],
      "text/plain": [
       "KMeans(n_clusters=3)"
      ]
     },
     "execution_count": 38,
     "metadata": {},
     "output_type": "execute_result"
    }
   ],
   "source": [
    "kmeans = KMeans ( n_clusters =3, init = 'k-means++')\n",
    "kmeans.fit(X)"
   ]
  },
  {
   "cell_type": "markdown",
   "id": "2b398330-9aec-42b7-a757-38ea273b995c",
   "metadata": {},
   "source": [
    "# Elbow Yöntemi\n",
    "- Kaç küme olmalı sorusunun cevabını bu yöntemle cevapladım. Bu yöntemde önemli olan nokta dirsek noktası denilen kırılan noktanın küme sayısını belirlemesidir."
   ]
  },
  {
   "cell_type": "markdown",
   "id": "550fc69c-6c69-41bd-88e6-1a9bb9fa0cde",
   "metadata": {},
   "source": [
    " \n",
    "- Küme sayısı arttıkça her kümenin içindeki hata azalır. (inertia değeri düşer.)\n",
    "- Ama bir noktadan sonra hata azalması yavaşlar, orada bir “dirsek (elbow)” oluşur.\n",
    "- Bu dirsek noktası, en verimli küme sayısını gösterir.\n",
    "- cluster centers'ları görüyoruz"
   ]
  },
  {
   "cell_type": "code",
   "execution_count": 39,
   "id": "376faeea-ddec-4d99-a6fa-2958a934e694",
   "metadata": {},
   "outputs": [
    {
     "name": "stdout",
     "output_type": "stream",
     "text": [
      "[[ 0.98611675 -0.24420489 -0.33937682  0.37198166]\n",
      " [-0.75933227  0.17007267 -0.74001425 -0.20817687]\n",
      " [-0.19319594  0.06646772  1.10424385 -0.15398029]]\n"
     ]
    },
    {
     "data": {
      "text/plain": [
       "[<matplotlib.lines.Line2D at 0x16ded3790>]"
      ]
     },
     "execution_count": 39,
     "metadata": {},
     "output_type": "execute_result"
    },
    {
     "data": {
      "image/png": "[encoded data removed]",
      "text/plain": [
       "<Figure size 640x480 with 1 Axes>"
      ]
     },
     "metadata": {},
     "output_type": "display_data"
    }
   ],
   "source": [
    "print(kmeans.cluster_centers_)\n",
    "sonuclar = []\n",
    "for i in range(1,10):\n",
    "    kmeans = KMeans (n_clusters = i, init = 'k-means++', random_state=123)\n",
    "    kmeans.fit(X)\n",
    "    sonuclar.append(kmeans.inertia_)\n",
    "plt.plot(range(1,10),sonuclar)"
   ]
  },
  {
   "cell_type": "markdown",
   "id": "b7cea9be-7d0d-496f-9ea9-11bd5ef3785d",
   "metadata": {},
   "source": [
    "# Silhoutte Score Yöntemi\n",
    "- Bu yöntem kümelerin birbirinden ne kadar ayrı olduğunu ölçmede kullanılır.\n",
    "- 1'e ne kadar yakınsa o kadar iyidir bizim için.\n",
    "- En yüksek skor hangi k değerindeyse onu kullanmak mantıklıdır."
   ]
  },
  {
   "cell_type": "code",
   "execution_count": 40,
   "id": "b25c9a64-2e77-47e0-9516-8c095143dd90",
   "metadata": {},
   "outputs": [],
   "source": [
    "from sklearn.metrics import silhouette_score"
   ]
  },
  {
   "cell_type": "code",
   "execution_count": 41,
   "id": "f590bf3e-49f9-48c3-a59a-65c0a18a3293",
   "metadata": {},
   "outputs": [],
   "source": [
    "silhouette_scores = []\n",
    "k_values = range(2, 11)  # 2'den 10'a kadar olan k değerlerini deniyoruz\n",
    "\n",
    "for k in k_values:\n",
    "    kmeans = KMeans(n_clusters=k, init='k-means++', random_state=42)\n",
    "    cluster_labels = kmeans.fit_predict(X)\n",
    "    score = silhouette_score(X, cluster_labels)\n",
    "    silhouette_scores.append(score)\n",
    "\n"
   ]
  },
  {
   "cell_type": "code",
   "execution_count": 42,
   "id": "92b15362-2574-4c31-be2c-bc0e2d627569",
   "metadata": {},
   "outputs": [
    {
     "data": {
      "image/png": "[encoded data removed]",
      "text/plain": [
       "<Figure size 640x480 with 1 Axes>"
      ]
     },
     "metadata": {},
     "output_type": "display_data"
    }
   ],
   "source": [
    "# Skorları çizdirme\n",
    "plt.plot(k_values, silhouette_scores, marker='o')\n",
    "plt.title('Silhouette Score by Number of Clusters')\n",
    "plt.xlabel('Number of Clusters (k)')\n",
    "plt.ylabel('Silhouette Score')\n",
    "plt.grid(True)\n",
    "plt.show()"
   ]
  },
  {
   "cell_type": "markdown",
   "id": "628b9a6f-22fb-4986-a1c3-e8c246ca8590",
   "metadata": {},
   "source": [
    "**Kümeleme ve görselleştirme sonucunda en uygun k değeri 5'tir. Modeli buna göre tekrardan eğittim.**"
   ]
  },
  {
   "cell_type": "code",
   "execution_count": 43,
   "id": "fa0659c2-f702-4915-b6b5-fb7e542a2ed1",
   "metadata": {},
   "outputs": [
    {
     "name": "stdout",
     "output_type": "stream",
     "text": [
      "[0 0 3 3 0 3 1 2 3 1 1 3 3 1 1 1 3 1 3 1 2 1 0 1 3 1 2 3 1 2 0 1 0 1 0 3 0\n",
      " 0 0 0 3 0 0 2 3 2 2 2 3 3 2 0 2 2 1 3 1 0 2 0 3 0 2 3 1 2 0 0 3 3 2 0 1 2\n",
      " 1 0 0 1 3 1 1 0 2 3 1 3 1 0 1 3 0 3 2 0 1 1 0 2 1 3 0 1 3 3 1 3 3 0 2 0 1\n",
      " 1 1 3 0 0 0 1 1 1 2 0 3 1 1 1 2 3 0 3 0 2 1 0 0 2 3 0 3 0 2 0 1 1 2 1 0 3\n",
      " 2 3 1 1 1 0 2 3 2 3 1 2 2 0 1 0 1 2 2 2 1 0 0 1 1 0 2 0 3 2 1 1 2 3 2 0 0\n",
      " 1 2 3 1 1 3 2 3 3 1 0 2 0 1 1 3 1 1 1 2 3 1 0 0 1 3 0 1 2 1 2 1 0 0 1 0 3\n",
      " 3 2 0 2 3 0 3 3 0 1 0 2 2 3 1 3 0 1 2 1 2 1 1 0 2 0 3 0 1 3 1 3 0 3 0 1 2\n",
      " 2 1 3 1 2 0 2 1 1 3 1 3 0 0 2 2 0 3 0 3 3 2 1 0 1 2 0 2 1 3 1 3 2 0 0 1 3\n",
      " 0 1 3 0 1 3 0 2 1 0 3 2 3 1 0 1 0 2 2 1 3 2 2 1 1 0 0 0 1 0 1 1 1 2 2 3 0\n",
      " 0 0 1 1 3 2 0 1 3 2 3 3 0 2 1 0 3 1 2 1 0 2 0 0 1 2 3 0 1 3 2 1 1 0 3 0 3\n",
      " 3 0 2 1 2 0 2 0 0 3 1 0 0 3 3 0 2 1 0 3 0 3 2 3 1 3 1 1 0 3 1 1 0 2 0 0 2\n",
      " 3 3 3 3 2 1 2 2 1 2 3 2 0 0 2 0 0 0 2 2 1 1 3 0 1 3 1 3 0 3 3 1 0 3 3 0 1\n",
      " 3 1 3 2 1 2 1 3 0 0 0 1 3 1 0 0 3 0 0 3 0 3 3 0 0 2 2 2 2 1 2 3 3 0 0 0 0\n",
      " 2 1 1 0 2 1 1 1 2 1 1 0 2 1 0 3 0 0 3 1 0 3 3 0 1 3 3 3 0 1 1 3 1 1 3 2 0\n",
      " 2 0 2 3 3 1 2 1 0 0 0 0 1 0 0 1 3 2 0 0 0 2 1 0 3 1 3 0 2 1 3 3 1 2 1 0 1\n",
      " 1 0 3 2 2 0 1 2 0 1 3 3 1 2 2 3 0 0 2 3 3 0 1 1 2 0 2 1 3 0 1 1 2 3 2 2 0\n",
      " 2 3 3 0 0 3 0 1 3 3 1 1 1 3 1 0 0 0 0 0 1 0 2 2 3 3 0 0 1 2 3 3 0 1 0 2 1\n",
      " 0 0 0 0 3 2 1 0 3 3 0 1 3 1 1 2 1 1 0 1 0 3 3 1 3 3 0 1 0 2 1 2 2 0 1 2 3\n",
      " 3 2 3 1 0 1 3 0 3 1 1 2 3 1 3 0 3 0 0 3 2 1 3 1 0 0 0 1 2 0 0 3 3 0 1 1 3\n",
      " 0 3 0 1 2 1 2 0 1 3 2 3 1 1 1 3 0 1 1 3 2 2 0 3 1 1 3 1 2 2 0 3 0 0 1 0 2\n",
      " 1 3 1 1 1 0 0 1 3 1 0 2 0 1 3 3 3 1 0 1 1 3 3 1 1 1 0 3 3 1 2 1 0 1 3 0 3\n",
      " 3 0 0 0 2 2 1 2 2 3 1 1 0 1 1 2 1 1 0 3 2 1 3 3 1 2 0 3 2 1 3 0 0 2 3 3 0\n",
      " 2 3 1 1 3 1 0 2 0 3 3 2 3 0 1 3 0 1 2 1 3 1 0 3 2 1 1 3 3 3 2 3 2 2 3 3 1\n",
      " 0 2 1 0 1 1 2 0 3 0 1 2 2 3 2 1 1 2 1 0 0 1 3 0 3 2 1 1 0 2 3 0 1 0 3 3 1\n",
      " 1 2 0 1 1 0 2 1 1 0 0 0 1 3 1 1 1 2 1 3 0 2 3 2 1 3 2 1 0 0 3 0 2 1 1 2 3\n",
      " 3 2 3 0 1 3 3 0 1 3 0 1 2 0 1 3 3 1 1 0 1 0 3 3 2 0 1 3 2 2 1 3 1 0 0 1 0\n",
      " 2 2 0 1 0 0 2 1 2 3 3 2 0 2 3 2 1 1 2 2 1 1 3 3 0 0 2 0 1 1 0 3 0 2 0 1 1\n",
      " 1]\n"
     ]
    },
    {
     "data": {
      "image/png": "[encoded data removed]",
      "text/plain": [
       "<Figure size 640x480 with 1 Axes>"
      ]
     },
     "metadata": {},
     "output_type": "display_data"
    }
   ],
   "source": [
    "kmeans = KMeans (n_clusters = 4, init = 'k-means++', random_state = 123)\n",
    "Y_tahmin = kmeans.fit_predict(X)\n",
    "print(Y_tahmin)\n",
    "plt.scatter(X[Y_tahmin==0,0],X[Y_tahmin==0,1],s=100, c='pink')\n",
    "plt.scatter(X[Y_tahmin==1,0],X[Y_tahmin==1,1],s=100, c='yellow')\n",
    "plt.scatter(X[Y_tahmin==2,0],X[Y_tahmin==2,1],s=100, c='black')\n",
    "plt.scatter(X[Y_tahmin==3,0],X[Y_tahmin==3,1],s=100, c='blue')\n",
    "plt.title('KMeans')\n",
    "plt.show()"
   ]
  },
  {
   "cell_type": "markdown",
   "id": "10abf63b-85b9-4e04-b911-fe948d14df9f",
   "metadata": {},
   "source": [
    "# Kümelere Etiket Verme ve Segment Analizi"
   ]
  },
  {
   "cell_type": "code",
   "execution_count": 44,
   "id": "7432e577-812a-4305-a3aa-4b2aa02b52f8",
   "metadata": {},
   "outputs": [],
   "source": [
    "musteri_verileri['kume'] = Y_tahmin"
   ]
  },
  {
   "cell_type": "code",
   "execution_count": 45,
   "id": "06fb6de4-e16d-4556-a022-c91fdd8849b9",
   "metadata": {},
   "outputs": [
    {
     "data": {
      "text/html": [
       "<div>\n",
       "<style scoped>\n",
       "    .dataframe tbody tr th:only-of-type {\n",
       "        vertical-align: middle;\n",
       "    }\n",
       "\n",
       "    .dataframe tbody tr th {\n",
       "        vertical-align: top;\n",
       "    }\n",
       "\n",
       "    .dataframe thead th {\n",
       "        text-align: right;\n",
       "    }\n",
       "</style>\n",
       "<table border=\"1\" class=\"dataframe\">\n",
       "  <thead>\n",
       "    <tr style=\"text-align: right;\">\n",
       "      <th></th>\n",
       "      <th>customer_id</th>\n",
       "      <th>age</th>\n",
       "      <th>gender</th>\n",
       "      <th>region</th>\n",
       "      <th>num_loans</th>\n",
       "      <th>total_spent</th>\n",
       "      <th>activity_score</th>\n",
       "      <th>income_level</th>\n",
       "      <th>kume</th>\n",
       "    </tr>\n",
       "  </thead>\n",
       "  <tbody>\n",
       "    <tr>\n",
       "      <th>0</th>\n",
       "      <td>CUST0001</td>\n",
       "      <td>56</td>\n",
       "      <td>Kadın</td>\n",
       "      <td>Marmara</td>\n",
       "      <td>2</td>\n",
       "      <td>8213</td>\n",
       "      <td>80.37</td>\n",
       "      <td>Alt</td>\n",
       "      <td>0</td>\n",
       "    </tr>\n",
       "    <tr>\n",
       "      <th>1</th>\n",
       "      <td>CUST0002</td>\n",
       "      <td>69</td>\n",
       "      <td>Kadın</td>\n",
       "      <td>İç Anadolu</td>\n",
       "      <td>2</td>\n",
       "      <td>11303</td>\n",
       "      <td>81.78</td>\n",
       "      <td>Üst</td>\n",
       "      <td>0</td>\n",
       "    </tr>\n",
       "    <tr>\n",
       "      <th>2</th>\n",
       "      <td>CUST0003</td>\n",
       "      <td>46</td>\n",
       "      <td>Kadın</td>\n",
       "      <td>Karadeniz</td>\n",
       "      <td>2</td>\n",
       "      <td>10804</td>\n",
       "      <td>97.89</td>\n",
       "      <td>Alt</td>\n",
       "      <td>3</td>\n",
       "    </tr>\n",
       "    <tr>\n",
       "      <th>3</th>\n",
       "      <td>CUST0004</td>\n",
       "      <td>32</td>\n",
       "      <td>Erkek</td>\n",
       "      <td>Doğu Anadolu</td>\n",
       "      <td>1</td>\n",
       "      <td>10420</td>\n",
       "      <td>50.19</td>\n",
       "      <td>Alt</td>\n",
       "      <td>3</td>\n",
       "    </tr>\n",
       "    <tr>\n",
       "      <th>4</th>\n",
       "      <td>CUST0005</td>\n",
       "      <td>60</td>\n",
       "      <td>Kadın</td>\n",
       "      <td>Karadeniz</td>\n",
       "      <td>0</td>\n",
       "      <td>7512</td>\n",
       "      <td>45.50</td>\n",
       "      <td>Orta</td>\n",
       "      <td>0</td>\n",
       "    </tr>\n",
       "  </tbody>\n",
       "</table>\n",
       "</div>"
      ],
      "text/plain": [
       "  customer_id  age gender        region  num_loans  total_spent  \\\n",
       "0    CUST0001   56  Kadın       Marmara          2         8213   \n",
       "1    CUST0002   69  Kadın    İç Anadolu          2        11303   \n",
       "2    CUST0003   46  Kadın     Karadeniz          2        10804   \n",
       "3    CUST0004   32  Erkek  Doğu Anadolu          1        10420   \n",
       "4    CUST0005   60  Kadın     Karadeniz          0         7512   \n",
       "\n",
       "   activity_score income_level  kume  \n",
       "0           80.37          Alt     0  \n",
       "1           81.78          Üst     0  \n",
       "2           97.89          Alt     3  \n",
       "3           50.19          Alt     3  \n",
       "4           45.50         Orta     0  "
      ]
     },
     "execution_count": 45,
     "metadata": {},
     "output_type": "execute_result"
    }
   ],
   "source": [
    "musteri_verileri.head()"
   ]
  },
  {
   "cell_type": "code",
   "execution_count": 46,
   "id": "ee5bad6f-ae10-48be-819d-00747e023787",
   "metadata": {},
   "outputs": [
    {
     "data": {
      "text/html": [
       "<div>\n",
       "<style scoped>\n",
       "    .dataframe tbody tr th:only-of-type {\n",
       "        vertical-align: middle;\n",
       "    }\n",
       "\n",
       "    .dataframe tbody tr th {\n",
       "        vertical-align: top;\n",
       "    }\n",
       "\n",
       "    .dataframe thead th {\n",
       "        text-align: right;\n",
       "    }\n",
       "</style>\n",
       "<table border=\"1\" class=\"dataframe\">\n",
       "  <thead>\n",
       "    <tr style=\"text-align: right;\">\n",
       "      <th></th>\n",
       "      <th>age</th>\n",
       "      <th>num_loans</th>\n",
       "      <th>total_spent</th>\n",
       "      <th>activity_score</th>\n",
       "    </tr>\n",
       "    <tr>\n",
       "      <th>kume</th>\n",
       "      <th></th>\n",
       "      <th></th>\n",
       "      <th></th>\n",
       "      <th></th>\n",
       "    </tr>\n",
       "  </thead>\n",
       "  <tbody>\n",
       "    <tr>\n",
       "      <th>0</th>\n",
       "      <td>56.779412</td>\n",
       "      <td>1.569853</td>\n",
       "      <td>8505.022059</td>\n",
       "      <td>63.948456</td>\n",
       "    </tr>\n",
       "    <tr>\n",
       "      <th>1</th>\n",
       "      <td>38.587629</td>\n",
       "      <td>1.343643</td>\n",
       "      <td>9827.570447</td>\n",
       "      <td>20.221615</td>\n",
       "    </tr>\n",
       "    <tr>\n",
       "      <th>2</th>\n",
       "      <td>49.092308</td>\n",
       "      <td>3.907692</td>\n",
       "      <td>10698.810256</td>\n",
       "      <td>39.526205</td>\n",
       "    </tr>\n",
       "    <tr>\n",
       "      <th>3</th>\n",
       "      <td>31.293388</td>\n",
       "      <td>1.842975</td>\n",
       "      <td>10612.206612</td>\n",
       "      <td>75.241942</td>\n",
       "    </tr>\n",
       "  </tbody>\n",
       "</table>\n",
       "</div>"
      ],
      "text/plain": [
       "            age  num_loans   total_spent  activity_score\n",
       "kume                                                    \n",
       "0     56.779412   1.569853   8505.022059       63.948456\n",
       "1     38.587629   1.343643   9827.570447       20.221615\n",
       "2     49.092308   3.907692  10698.810256       39.526205\n",
       "3     31.293388   1.842975  10612.206612       75.241942"
      ]
     },
     "execution_count": 46,
     "metadata": {},
     "output_type": "execute_result"
    }
   ],
   "source": [
    "musteri_verileri.groupby(\"kume\").mean(numeric_only=True)"
   ]
  },
  {
   "cell_type": "code",
   "execution_count": 51,
   "id": "167028c3-c7f3-4bf4-b018-9d40704e43fb",
   "metadata": {},
   "outputs": [],
   "source": [
    "segment_isimleri = {\n",
    "    0: \"Geleneksel Müşteriler\",\n",
    "    1: \"Pasif Harcayıcılar\",\n",
    "    2: \"Kredi Odaklılar\",\n",
    "    3: \"Dijital Aktifler\"\n",
    "}"
   ]
  },
  {
   "cell_type": "code",
   "execution_count": 52,
   "id": "7d1602f6-9b3a-445d-9b6c-d4572bb9e15b",
   "metadata": {},
   "outputs": [],
   "source": [
    "musteri_verileri[\"segment_ismi\"] = musteri_verileri[\"kume\"].map(segment_isimleri)"
   ]
  },
  {
   "cell_type": "code",
   "execution_count": 53,
   "id": "04259c10-9333-485e-bab6-2f65718b1396",
   "metadata": {},
   "outputs": [
    {
     "data": {
      "text/html": [
       "<div>\n",
       "<style scoped>\n",
       "    .dataframe tbody tr th:only-of-type {\n",
       "        vertical-align: middle;\n",
       "    }\n",
       "\n",
       "    .dataframe tbody tr th {\n",
       "        vertical-align: top;\n",
       "    }\n",
       "\n",
       "    .dataframe thead th {\n",
       "        text-align: right;\n",
       "    }\n",
       "</style>\n",
       "<table border=\"1\" class=\"dataframe\">\n",
       "  <thead>\n",
       "    <tr style=\"text-align: right;\">\n",
       "      <th></th>\n",
       "      <th>customer_id</th>\n",
       "      <th>kume</th>\n",
       "      <th>segment_ismi</th>\n",
       "    </tr>\n",
       "  </thead>\n",
       "  <tbody>\n",
       "    <tr>\n",
       "      <th>0</th>\n",
       "      <td>CUST0001</td>\n",
       "      <td>0</td>\n",
       "      <td>Geleneksel Müşteriler</td>\n",
       "    </tr>\n",
       "    <tr>\n",
       "      <th>1</th>\n",
       "      <td>CUST0002</td>\n",
       "      <td>0</td>\n",
       "      <td>Geleneksel Müşteriler</td>\n",
       "    </tr>\n",
       "    <tr>\n",
       "      <th>2</th>\n",
       "      <td>CUST0003</td>\n",
       "      <td>3</td>\n",
       "      <td>Dijital Aktifler</td>\n",
       "    </tr>\n",
       "    <tr>\n",
       "      <th>3</th>\n",
       "      <td>CUST0004</td>\n",
       "      <td>3</td>\n",
       "      <td>Dijital Aktifler</td>\n",
       "    </tr>\n",
       "    <tr>\n",
       "      <th>4</th>\n",
       "      <td>CUST0005</td>\n",
       "      <td>0</td>\n",
       "      <td>Geleneksel Müşteriler</td>\n",
       "    </tr>\n",
       "  </tbody>\n",
       "</table>\n",
       "</div>"
      ],
      "text/plain": [
       "  customer_id  kume           segment_ismi\n",
       "0    CUST0001     0  Geleneksel Müşteriler\n",
       "1    CUST0002     0  Geleneksel Müşteriler\n",
       "2    CUST0003     3       Dijital Aktifler\n",
       "3    CUST0004     3       Dijital Aktifler\n",
       "4    CUST0005     0  Geleneksel Müşteriler"
      ]
     },
     "execution_count": 53,
     "metadata": {},
     "output_type": "execute_result"
    }
   ],
   "source": [
    "musteri_verileri[[\"customer_id\", \"kume\", \"segment_ismi\"]].head()"
   ]
  },
  {
   "cell_type": "code",
   "execution_count": 54,
   "id": "2a42bbd5-8611-45b8-bf08-26cae288eed0",
   "metadata": {},
   "outputs": [
    {
     "data": {
      "text/html": [
       "<div>\n",
       "<style scoped>\n",
       "    .dataframe tbody tr th:only-of-type {\n",
       "        vertical-align: middle;\n",
       "    }\n",
       "\n",
       "    .dataframe tbody tr th {\n",
       "        vertical-align: top;\n",
       "    }\n",
       "\n",
       "    .dataframe thead th {\n",
       "        text-align: right;\n",
       "    }\n",
       "</style>\n",
       "<table border=\"1\" class=\"dataframe\">\n",
       "  <thead>\n",
       "    <tr style=\"text-align: right;\">\n",
       "      <th></th>\n",
       "      <th>age</th>\n",
       "      <th>num_loans</th>\n",
       "      <th>total_spent</th>\n",
       "      <th>activity_score</th>\n",
       "    </tr>\n",
       "    <tr>\n",
       "      <th>kume</th>\n",
       "      <th></th>\n",
       "      <th></th>\n",
       "      <th></th>\n",
       "      <th></th>\n",
       "    </tr>\n",
       "  </thead>\n",
       "  <tbody>\n",
       "    <tr>\n",
       "      <th>0</th>\n",
       "      <td>56.8</td>\n",
       "      <td>1.6</td>\n",
       "      <td>8505.0</td>\n",
       "      <td>63.9</td>\n",
       "    </tr>\n",
       "    <tr>\n",
       "      <th>1</th>\n",
       "      <td>38.6</td>\n",
       "      <td>1.3</td>\n",
       "      <td>9827.6</td>\n",
       "      <td>20.2</td>\n",
       "    </tr>\n",
       "    <tr>\n",
       "      <th>2</th>\n",
       "      <td>49.1</td>\n",
       "      <td>3.9</td>\n",
       "      <td>10698.8</td>\n",
       "      <td>39.5</td>\n",
       "    </tr>\n",
       "    <tr>\n",
       "      <th>3</th>\n",
       "      <td>31.3</td>\n",
       "      <td>1.8</td>\n",
       "      <td>10612.2</td>\n",
       "      <td>75.2</td>\n",
       "    </tr>\n",
       "  </tbody>\n",
       "</table>\n",
       "</div>"
      ],
      "text/plain": [
       "       age  num_loans  total_spent  activity_score\n",
       "kume                                              \n",
       "0     56.8        1.6       8505.0            63.9\n",
       "1     38.6        1.3       9827.6            20.2\n",
       "2     49.1        3.9      10698.8            39.5\n",
       "3     31.3        1.8      10612.2            75.2"
      ]
     },
     "execution_count": 54,
     "metadata": {},
     "output_type": "execute_result"
    }
   ],
   "source": [
    "musteri_verileri.groupby(\"kume\")[[\"age\", \"num_loans\", \"total_spent\", \"activity_score\"]].mean().round(1)"
   ]
  },
  {
   "cell_type": "code",
   "execution_count": 55,
   "id": "6372203d-de77-49ae-943f-0861383f7009",
   "metadata": {},
   "outputs": [],
   "source": [
    "musteri_verileri.to_excel(\"guncellenmis_musteri_verileri.xlsx\", index=False)"
   ]
  },
  {
   "cell_type": "code",
   "execution_count": null,
   "id": "a5cd8af2-79eb-41fb-b9a8-1139c5f62940",
   "metadata": {},
   "outputs": [],
   "source": []
  }
 ],
 "metadata": {
  "kernelspec": {
   "display_name": "Python 3 (ipykernel)",
   "language": "python",
   "name": "python3"
  },
  "language_info": {
   "codemirror_mode": {
    "name": "ipython",
    "version": 3
   },
   "file_extension": ".py",
   "mimetype": "text/x-python",
   "name": "python",
   "nbconvert_exporter": "python",
   "pygments_lexer": "ipython3",
   "version": "3.10.18"
  }
 },
 "nbformat": 4,
 "nbformat_minor": 5
}
